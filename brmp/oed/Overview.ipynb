{
 "cells": [
  {
   "cell_type": "markdown",
   "metadata": {},
   "source": [
    "# An overview of OED with brmp\n",
    "\n",
    "The describes the interface provided for performing model-selection driven OED. Also see `example.py` in this directory for an interactive command line based example."
   ]
  },
  {
   "cell_type": "code",
   "execution_count": 1,
   "metadata": {},
   "outputs": [],
   "source": [
    "from brmp.design import RealValued, Categorical, Integral\n",
    "from brmp.oed import SequentialOED\n",
    "from brmp.model import model_repr"
   ]
  },
  {
   "cell_type": "markdown",
   "metadata": {},
   "source": [
    "## Setting up an OED problem\n",
    "\n",
    "The main interface to the model selection driven OED is provided by the `SequentialOED` class. To set-up a new OED problem we first create an instance of this class. The main thing we need to provide here is a description of the model in the form of a lme4-like formula and metadata describing the columns mentioned in the formula."
   ]
  },
  {
   "cell_type": "code",
   "execution_count": 2,
   "metadata": {},
   "outputs": [],
   "source": [
    "metadata = [\n",
    "    RealValued('y'),\n",
    "    Categorical('a', levels=['a1', 'a2']),\n",
    "    Categorical('b', levels=['b1', 'b2']),\n",
    "]\n",
    "oed = SequentialOED('y ~ 1 + a + b', metadata)"
   ]
  },
  {
   "cell_type": "markdown",
   "metadata": {},
   "source": [
    "A `SequentialOED` instance carries a few useful properties. First, we can inspect the brmp model used internally by OED:"
   ]
  },
  {
   "cell_type": "code",
   "execution_count": 3,
   "metadata": {},
   "outputs": [
    {
     "name": "stdout",
     "output_type": "stream",
     "text": [
      "========================================\n",
      "Population\n",
      "----------------------------------------\n",
      "Coef Priors:\n",
      "intercept       | Cauchy(loc=0.0, scale=1.0)\n",
      "a[a2]           | Cauchy(loc=0.0, scale=1.0)\n",
      "b[b2]           | Cauchy(loc=0.0, scale=1.0)\n",
      "========================================\n",
      "Response\n",
      "----------------------------------------\n",
      "Family: Normal()\n",
      "Link:\n",
      "  Parameter: mu\n",
      "  Function:  identity\n",
      "Priors:\n",
      "sigma           | HalfCauchy(scale=3.0)\n",
      "========================================\n"
     ]
    }
   ],
   "source": [
    "print(model_repr(oed.model_desc))  # TODO: Make this less clumsy."
   ]
  },
  {
   "cell_type": "markdown",
   "metadata": {},
   "source": [
    "We can also access the data-so-far, which is represented as a Pandas data frame. This is empty initially."
   ]
  },
  {
   "cell_type": "code",
   "execution_count": 4,
   "metadata": {},
   "outputs": [
    {
     "data": {
      "text/html": [
       "<div>\n",
       "<style scoped>\n",
       "    .dataframe tbody tr th:only-of-type {\n",
       "        vertical-align: middle;\n",
       "    }\n",
       "\n",
       "    .dataframe tbody tr th {\n",
       "        vertical-align: top;\n",
       "    }\n",
       "\n",
       "    .dataframe thead th {\n",
       "        text-align: right;\n",
       "    }\n",
       "</style>\n",
       "<table border=\"1\" class=\"dataframe\">\n",
       "  <thead>\n",
       "    <tr style=\"text-align: right;\">\n",
       "      <th></th>\n",
       "      <th>y</th>\n",
       "      <th>a</th>\n",
       "      <th>b</th>\n",
       "    </tr>\n",
       "  </thead>\n",
       "  <tbody>\n",
       "  </tbody>\n",
       "</table>\n",
       "</div>"
      ],
      "text/plain": [
       "Empty DataFrame\n",
       "Columns: [y, a, b]\n",
       "Index: []"
      ]
     },
     "execution_count": 4,
     "metadata": {},
     "output_type": "execute_result"
    }
   ],
   "source": [
    "oed.data_so_far"
   ]
  },
  {
   "cell_type": "markdown",
   "metadata": {},
   "source": [
    "By default, the OED will attempt to gain information about all coefficients appearing on the RHS of the formula."
   ]
  },
  {
   "cell_type": "code",
   "execution_count": 5,
   "metadata": {},
   "outputs": [
    {
     "data": {
      "text/plain": [
       "['b_intercept', 'b_a[a2]', 'b_b[b2]']"
      ]
     },
     "execution_count": 5,
     "metadata": {},
     "output_type": "execute_result"
    }
   ],
   "source": [
    "oed.target_coefs"
   ]
  },
  {
   "cell_type": "markdown",
   "metadata": {},
   "source": [
    "This default can be overridden by passing a list of coefficient names to the `SequentialOED` constructor."
   ]
  },
  {
   "cell_type": "code",
   "execution_count": 6,
   "metadata": {},
   "outputs": [
    {
     "data": {
      "text/plain": [
       "['b_a[a2]']"
      ]
     },
     "execution_count": 6,
     "metadata": {},
     "output_type": "execute_result"
    }
   ],
   "source": [
    "SequentialOED('y ~ 1 + a + b', metadata, target_coefs=['b_a[a2]']).target_coefs"
   ]
  },
  {
   "cell_type": "markdown",
   "metadata": {},
   "source": [
    "## Estimating the optimal next trial\n",
    "\n",
    "To estimate an optimial next trial given the data-so-far, we call the `next_trial()` method on the `SequentialOED` instance."
   ]
  },
  {
   "cell_type": "code",
   "execution_count": 7,
   "metadata": {},
   "outputs": [
    {
     "name": "stdout",
     "output_type": "stream",
     "text": [
      "Targets interval:\n",
      "  Low:  -0.5\n",
      "  High: 0.5\n",
      "Targets class balance: tensor([0.2950, 0.3030, 0.2910])\n"
     ]
    }
   ],
   "source": [
    "design, _, eigs, fit, _ = oed.next_trial()"
   ]
  },
  {
   "cell_type": "markdown",
   "metadata": {},
   "source": [
    "This method returns several values. Of most interest are:\n",
    "\n",
    "* `design`, which is a dictionary containing a setting for each column on the RHS of the formula representing the estimated optimal next design.\n",
    "* `eigs`, which is a list of all designs considered and their estimated (unnormalized) EIG.\n",
    "* `fit`, which is the brmp `Fit` instance representing the posterior given the data-so-far."
   ]
  },
  {
   "cell_type": "code",
   "execution_count": 8,
   "metadata": {},
   "outputs": [
    {
     "data": {
      "text/plain": [
       "{'a': 'a1', 'b': 'b2'}"
      ]
     },
     "execution_count": 8,
     "metadata": {},
     "output_type": "execute_result"
    }
   ],
   "source": [
    "design"
   ]
  },
  {
   "cell_type": "code",
   "execution_count": 9,
   "metadata": {},
   "outputs": [
    {
     "data": {
      "text/plain": [
       "[({'a': 'a1', 'b': 'b1'}, -1.7878224849700928),\n",
       " ({'a': 'a1', 'b': 'b2'}, -1.7712924480438232),\n",
       " ({'a': 'a2', 'b': 'b1'}, -1.7863678932189941),\n",
       " ({'a': 'a2', 'b': 'b2'}, -1.7882044315338135)]"
      ]
     },
     "execution_count": 9,
     "metadata": {},
     "output_type": "execute_result"
    }
   ],
   "source": [
    "eigs"
   ]
  },
  {
   "cell_type": "code",
   "execution_count": 10,
   "metadata": {},
   "outputs": [
    {
     "data": {
      "text/plain": [
       "              mean      sd   2.5%   25%   50%   75%  97.5%    n_eff r_hat\n",
       "b_intercept  -0.62   17.43 -12.28 -0.98  0.01  1.04  11.48   993.06  1.00\n",
       "    b_a[a2]  -0.86  121.85 -11.47 -0.86  0.04  1.11  12.51   989.78  1.00\n",
       "    b_b[b2]  12.53  403.29 -11.12 -0.97 -0.00  1.00  16.11  1002.28  1.00\n",
       "      sigma  13.70   91.51   0.14  1.17  2.92  7.31  71.99  1017.24  1.00"
      ]
     },
     "execution_count": 10,
     "metadata": {},
     "output_type": "execute_result"
    }
   ],
   "source": [
    "fit.marginals()"
   ]
  },
  {
   "cell_type": "markdown",
   "metadata": {},
   "source": [
    "By default an exhaustive search is performed over the full Cartesian product of the levels(/possible values) taken on by each of the columns mentioned in the RHS of the formula. The search can be restricted to a subset of this by passing a `design_space` argument to `next_trial()`."
   ]
  },
  {
   "cell_type": "code",
   "execution_count": 11,
   "metadata": {},
   "outputs": [
    {
     "name": "stdout",
     "output_type": "stream",
     "text": [
      "WARNING: Design matrix may not be full rank.\n",
      "Targets interval:\n",
      "  Low:  -0.5\n",
      "  High: 0.5\n",
      "Targets class balance: tensor([0.2880, 0.3180, 0.3110])\n"
     ]
    },
    {
     "data": {
      "text/plain": [
       "[({'a': 'a2', 'b': 'b1'}, -1.811561107635498),\n",
       " ({'a': 'a2', 'b': 'b2'}, -1.8157528638839722)]"
      ]
     },
     "execution_count": 11,
     "metadata": {},
     "output_type": "execute_result"
    }
   ],
   "source": [
    "design_space = [{'a': 'a2', 'b': 'b1'}, {'a': 'a2', 'b': 'b2'}]\n",
    "_, _, eigs2, _, _ = oed.next_trial(design_space=design_space)\n",
    "eigs2"
   ]
  },
  {
   "cell_type": "markdown",
   "metadata": {},
   "source": [
    "## Adding results\n",
    "\n",
    "Once a trial has been run, the result can be added to the data-so-far using the `add_result` method. This takes two arguments -- the design that was run (using the same representation of a trial the `next_trial` returns) and the result itself."
   ]
  },
  {
   "cell_type": "code",
   "execution_count": 12,
   "metadata": {},
   "outputs": [
    {
     "data": {
      "text/html": [
       "<div>\n",
       "<style scoped>\n",
       "    .dataframe tbody tr th:only-of-type {\n",
       "        vertical-align: middle;\n",
       "    }\n",
       "\n",
       "    .dataframe tbody tr th {\n",
       "        vertical-align: top;\n",
       "    }\n",
       "\n",
       "    .dataframe thead th {\n",
       "        text-align: right;\n",
       "    }\n",
       "</style>\n",
       "<table border=\"1\" class=\"dataframe\">\n",
       "  <thead>\n",
       "    <tr style=\"text-align: right;\">\n",
       "      <th></th>\n",
       "      <th>y</th>\n",
       "      <th>a</th>\n",
       "      <th>b</th>\n",
       "    </tr>\n",
       "  </thead>\n",
       "  <tbody>\n",
       "    <tr>\n",
       "      <td>0</td>\n",
       "      <td>-2.0</td>\n",
       "      <td>a1</td>\n",
       "      <td>b2</td>\n",
       "    </tr>\n",
       "  </tbody>\n",
       "</table>\n",
       "</div>"
      ],
      "text/plain": [
       "     y   a   b\n",
       "0 -2.0  a1  b2"
      ]
     },
     "execution_count": 12,
     "metadata": {},
     "output_type": "execute_result"
    }
   ],
   "source": [
    "oed.add_result(design, -2.0)\n",
    "oed.data_so_far"
   ]
  }
 ],
 "metadata": {
  "kernelspec": {
   "display_name": "Python 3",
   "language": "python",
   "name": "python3"
  },
  "language_info": {
   "codemirror_mode": {
    "name": "ipython",
    "version": 3
   },
   "file_extension": ".py",
   "mimetype": "text/x-python",
   "name": "python",
   "nbconvert_exporter": "python",
   "pygments_lexer": "ipython3",
   "version": "3.7.3"
  }
 },
 "nbformat": 4,
 "nbformat_minor": 2
}
